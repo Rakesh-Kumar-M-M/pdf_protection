{
 "cells": [
  {
   "cell_type": "code",
   "execution_count": 5,
   "id": "8dc313cb-b7d7-483b-84c9-3a91e89439de",
   "metadata": {},
   "outputs": [
    {
     "name": "stdout",
     "output_type": "stream",
     "text": [
      "Requirement already satisfied: PyPDF2 in c:\\users\\hp\\anaconda3\\lib\\site-packages (3.0.1)\n"
     ]
    }
   ],
   "source": [
    "!pip install PyPDF2"
   ]
  },
  {
   "cell_type": "code",
   "execution_count": 13,
   "id": "2820dd4c-a817-454e-a1e9-9fe6dd843fc7",
   "metadata": {},
   "outputs": [],
   "source": [
    "from PyPDF2 import PdfReader, PdfWriter\n"
   ]
  },
  {
   "cell_type": "code",
   "execution_count": 23,
   "id": "fa4ba2c5-f9df-4c6a-b00f-17a12f257bd4",
   "metadata": {},
   "outputs": [],
   "source": [
    "file_pdf=PdfReader('bitwars.pdf')\n",
    "out_pdf=PdfWriter()"
   ]
  },
  {
   "cell_type": "code",
   "execution_count": 25,
   "id": "3ff3450c-0f38-4a8c-b250-d78302875821",
   "metadata": {},
   "outputs": [
    {
     "data": {
      "text/plain": [
       "<PyPDF2._reader.PdfReader at 0x3b2923a0c0>"
      ]
     },
     "execution_count": 25,
     "metadata": {},
     "output_type": "execute_result"
    }
   ],
   "source": [
    "file_pdf"
   ]
  },
  {
   "cell_type": "code",
   "execution_count": 37,
   "id": "37cbcc32-291d-49c7-9b6e-60f8d4a42a21",
   "metadata": {},
   "outputs": [],
   "source": [
    "for page in file_pdf.pages:  # No need to use range or indexing\n",
    "    out_pdf.add_page(page)"
   ]
  },
  {
   "cell_type": "code",
   "execution_count": 39,
   "id": "1f526107-e468-4638-903c-46ee75da0fea",
   "metadata": {},
   "outputs": [],
   "source": [
    "password=\"rakesh@123\"\n",
    "\n",
    "out_pdf.encrypt(password)"
   ]
  },
  {
   "cell_type": "code",
   "execution_count": 41,
   "id": "58fd3b92-fe2e-4cf8-9aef-309170bd412b",
   "metadata": {},
   "outputs": [],
   "source": [
    "with open(\"encryptedbitwars.pdf\",\"wb\") as filename:\n",
    "    out_pdf.write(filename)"
   ]
  },
  {
   "cell_type": "code",
   "execution_count": 43,
   "id": "b522fab2-65bc-478a-8a93-00eda8b5b612",
   "metadata": {},
   "outputs": [
    {
     "name": "stdout",
     "output_type": "stream",
     "text": [
      "Current directory: C:\\Users\\HP\n"
     ]
    }
   ],
   "source": [
    "import os\n",
    "\n",
    "# Get the current working directory\n",
    "print(\"Current directory:\", os.getcwd())"
   ]
  },
  {
   "cell_type": "code",
   "execution_count": null,
   "id": "18a1d10e-2d92-40e7-9bf8-eea106a302fc",
   "metadata": {},
   "outputs": [],
   "source": []
  }
 ],
 "metadata": {
  "kernelspec": {
   "display_name": "Python 3 (ipykernel)",
   "language": "python",
   "name": "python3"
  },
  "language_info": {
   "codemirror_mode": {
    "name": "ipython",
    "version": 3
   },
   "file_extension": ".py",
   "mimetype": "text/x-python",
   "name": "python",
   "nbconvert_exporter": "python",
   "pygments_lexer": "ipython3",
   "version": "3.12.7"
  }
 },
 "nbformat": 4,
 "nbformat_minor": 5
}
